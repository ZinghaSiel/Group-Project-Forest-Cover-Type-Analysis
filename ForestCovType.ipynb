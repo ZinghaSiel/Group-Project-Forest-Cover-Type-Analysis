{
 "cells": [
  {
   "cell_type": "code",
   "execution_count": 1,
   "metadata": {},
   "outputs": [],
   "source": [
    "import numpy as np\n",
    "import pandas as pd\n",
    "import sys\n",
    "\n",
    "if not sys.warnoptions:\n",
    "    import warnings\n",
    "    warnings.simplefilter(\"ignore\")"
   ]
  },
  {
   "cell_type": "code",
   "execution_count": 2,
   "metadata": {},
   "outputs": [],
   "source": [
    "# Import and read in csv file\n",
    "# Read the csv file into a pandas DataFrame\n",
    "covtype = pd.read_csv(\"data/covtype.csv\")"
   ]
  },
  {
   "cell_type": "code",
   "execution_count": 3,
   "metadata": {},
   "outputs": [
    {
     "data": {
      "text/html": [
       "<div>\n",
       "<style scoped>\n",
       "    .dataframe tbody tr th:only-of-type {\n",
       "        vertical-align: middle;\n",
       "    }\n",
       "\n",
       "    .dataframe tbody tr th {\n",
       "        vertical-align: top;\n",
       "    }\n",
       "\n",
       "    .dataframe thead th {\n",
       "        text-align: right;\n",
       "    }\n",
       "</style>\n",
       "<table border=\"1\" class=\"dataframe\">\n",
       "  <thead>\n",
       "    <tr style=\"text-align: right;\">\n",
       "      <th></th>\n",
       "      <th>Elevation</th>\n",
       "      <th>Aspect</th>\n",
       "      <th>Slope</th>\n",
       "      <th>Horizontal_Distance_To_Hydrology</th>\n",
       "      <th>Vertical_Distance_To_Hydrology</th>\n",
       "      <th>Horizontal_Distance_To_Roadway</th>\n",
       "      <th>Hillshade_9am</th>\n",
       "      <th>Hillshade_Noon</th>\n",
       "      <th>Hillshade_3pm</th>\n",
       "      <th>Horizontal_Distance_To_Fire_Points</th>\n",
       "      <th>...</th>\n",
       "      <th>SoilType_7756</th>\n",
       "      <th>SoilType_7757</th>\n",
       "      <th>SoilType_7790</th>\n",
       "      <th>SoilType_8703</th>\n",
       "      <th>SoilType_8707</th>\n",
       "      <th>SoilType_8708</th>\n",
       "      <th>SoilType_8771</th>\n",
       "      <th>SoilType_8772</th>\n",
       "      <th>SoilType_8776</th>\n",
       "      <th>Forest_Cover_Type</th>\n",
       "    </tr>\n",
       "  </thead>\n",
       "  <tbody>\n",
       "    <tr>\n",
       "      <th>0</th>\n",
       "      <td>2590</td>\n",
       "      <td>56</td>\n",
       "      <td>2</td>\n",
       "      <td>212</td>\n",
       "      <td>-6</td>\n",
       "      <td>390</td>\n",
       "      <td>220</td>\n",
       "      <td>235</td>\n",
       "      <td>151</td>\n",
       "      <td>6225</td>\n",
       "      <td>...</td>\n",
       "      <td>0</td>\n",
       "      <td>0</td>\n",
       "      <td>0</td>\n",
       "      <td>0</td>\n",
       "      <td>0</td>\n",
       "      <td>0</td>\n",
       "      <td>0</td>\n",
       "      <td>0</td>\n",
       "      <td>0</td>\n",
       "      <td>5</td>\n",
       "    </tr>\n",
       "    <tr>\n",
       "      <th>1</th>\n",
       "      <td>2804</td>\n",
       "      <td>139</td>\n",
       "      <td>9</td>\n",
       "      <td>268</td>\n",
       "      <td>65</td>\n",
       "      <td>3180</td>\n",
       "      <td>234</td>\n",
       "      <td>238</td>\n",
       "      <td>135</td>\n",
       "      <td>6121</td>\n",
       "      <td>...</td>\n",
       "      <td>0</td>\n",
       "      <td>0</td>\n",
       "      <td>0</td>\n",
       "      <td>0</td>\n",
       "      <td>0</td>\n",
       "      <td>0</td>\n",
       "      <td>0</td>\n",
       "      <td>0</td>\n",
       "      <td>0</td>\n",
       "      <td>2</td>\n",
       "    </tr>\n",
       "    <tr>\n",
       "      <th>2</th>\n",
       "      <td>2785</td>\n",
       "      <td>155</td>\n",
       "      <td>18</td>\n",
       "      <td>242</td>\n",
       "      <td>118</td>\n",
       "      <td>3090</td>\n",
       "      <td>238</td>\n",
       "      <td>238</td>\n",
       "      <td>122</td>\n",
       "      <td>6211</td>\n",
       "      <td>...</td>\n",
       "      <td>0</td>\n",
       "      <td>0</td>\n",
       "      <td>0</td>\n",
       "      <td>0</td>\n",
       "      <td>0</td>\n",
       "      <td>0</td>\n",
       "      <td>0</td>\n",
       "      <td>0</td>\n",
       "      <td>0</td>\n",
       "      <td>2</td>\n",
       "    </tr>\n",
       "    <tr>\n",
       "      <th>3</th>\n",
       "      <td>2595</td>\n",
       "      <td>45</td>\n",
       "      <td>2</td>\n",
       "      <td>153</td>\n",
       "      <td>-1</td>\n",
       "      <td>391</td>\n",
       "      <td>220</td>\n",
       "      <td>234</td>\n",
       "      <td>150</td>\n",
       "      <td>6172</td>\n",
       "      <td>...</td>\n",
       "      <td>0</td>\n",
       "      <td>0</td>\n",
       "      <td>0</td>\n",
       "      <td>0</td>\n",
       "      <td>0</td>\n",
       "      <td>0</td>\n",
       "      <td>0</td>\n",
       "      <td>0</td>\n",
       "      <td>0</td>\n",
       "      <td>5</td>\n",
       "    </tr>\n",
       "    <tr>\n",
       "      <th>4</th>\n",
       "      <td>2579</td>\n",
       "      <td>132</td>\n",
       "      <td>6</td>\n",
       "      <td>300</td>\n",
       "      <td>-15</td>\n",
       "      <td>67</td>\n",
       "      <td>230</td>\n",
       "      <td>237</td>\n",
       "      <td>140</td>\n",
       "      <td>6031</td>\n",
       "      <td>...</td>\n",
       "      <td>0</td>\n",
       "      <td>0</td>\n",
       "      <td>0</td>\n",
       "      <td>0</td>\n",
       "      <td>0</td>\n",
       "      <td>0</td>\n",
       "      <td>0</td>\n",
       "      <td>0</td>\n",
       "      <td>0</td>\n",
       "      <td>2</td>\n",
       "    </tr>\n",
       "  </tbody>\n",
       "</table>\n",
       "<p>5 rows × 55 columns</p>\n",
       "</div>"
      ],
      "text/plain": [
       "   Elevation  Aspect  Slope  Horizontal_Distance_To_Hydrology  \\\n",
       "0       2590      56      2                               212   \n",
       "1       2804     139      9                               268   \n",
       "2       2785     155     18                               242   \n",
       "3       2595      45      2                               153   \n",
       "4       2579     132      6                               300   \n",
       "\n",
       "   Vertical_Distance_To_Hydrology  Horizontal_Distance_To_Roadway  \\\n",
       "0                              -6                             390   \n",
       "1                              65                            3180   \n",
       "2                             118                            3090   \n",
       "3                              -1                             391   \n",
       "4                             -15                              67   \n",
       "\n",
       "   Hillshade_9am  Hillshade_Noon  Hillshade_3pm  \\\n",
       "0            220             235            151   \n",
       "1            234             238            135   \n",
       "2            238             238            122   \n",
       "3            220             234            150   \n",
       "4            230             237            140   \n",
       "\n",
       "   Horizontal_Distance_To_Fire_Points  ...  SoilType_7756  SoilType_7757  \\\n",
       "0                                6225  ...              0              0   \n",
       "1                                6121  ...              0              0   \n",
       "2                                6211  ...              0              0   \n",
       "3                                6172  ...              0              0   \n",
       "4                                6031  ...              0              0   \n",
       "\n",
       "   SoilType_7790  SoilType_8703  SoilType_8707  SoilType_8708  SoilType_8771  \\\n",
       "0              0              0              0              0              0   \n",
       "1              0              0              0              0              0   \n",
       "2              0              0              0              0              0   \n",
       "3              0              0              0              0              0   \n",
       "4              0              0              0              0              0   \n",
       "\n",
       "   SoilType_8772  SoilType_8776  Forest_Cover_Type  \n",
       "0              0              0                  5  \n",
       "1              0              0                  2  \n",
       "2              0              0                  2  \n",
       "3              0              0                  5  \n",
       "4              0              0                  2  \n",
       "\n",
       "[5 rows x 55 columns]"
      ]
     },
     "execution_count": 3,
     "metadata": {},
     "output_type": "execute_result"
    }
   ],
   "source": [
    "df = pd.DataFrame(covtype.values)\n",
    "df.columns = ['Elevation',\n",
    "              'Aspect',\n",
    "              'Slope',\n",
    "              'Horizontal_Distance_To_Hydrology',\n",
    "              'Vertical_Distance_To_Hydrology',\n",
    "              'Horizontal_Distance_To_Roadway',\n",
    "              'Hillshade_9am',\n",
    "              'Hillshade_Noon',\n",
    "              'Hillshade_3pm',\n",
    "              'Horizontal_Distance_To_Fire_Points',\n",
    "              'Rawah_Wilderness_Area',\n",
    "              'Neota_Wilderness_Area',\n",
    "              'Comanche_Peak_Wilderness_Area',\n",
    "              'Cache_la_Poudre_Wilderness_Area',\n",
    "              'SoilType_2702',\n",
    "              'SoilType_2703',\n",
    "              'SoilType_2704',\n",
    "              'SoilType_2705',\n",
    "              'SoilType_2706',\n",
    "              'SoilType_2717',\n",
    "              'SoilType_3501',\n",
    "              'SoilType_3502',\n",
    "              'SoilType_4201',\n",
    "              'SoilType_4703',\n",
    "              'SoilType_4704',\n",
    "              'SoilType_4744',\n",
    "              'SoilType_4758',\n",
    "              'SoilType_5101',\n",
    "              'SoilType_5151',\n",
    "              'SoilType_6101',\n",
    "              'SoilType_6102',\n",
    "              'SoilType_6731',\n",
    "              'SoilType_7101',\n",
    "              'SoilType_7102',\n",
    "              'SoilType_7103',\n",
    "              'SoilType_7201',\n",
    "              'SoilType_7202',\n",
    "              'SoilType_7700',\n",
    "              'SoilType_7701',\n",
    "              'SoilType_7702',\n",
    "              'SoilType_7709',\n",
    "              'SoilType_7710',\n",
    "              'SoilType_7745',\n",
    "              'SoilType_7746',\n",
    "              'SoilType_7755',\n",
    "              'SoilType_7756',\n",
    "              'SoilType_7757',\n",
    "              'SoilType_7790',\n",
    "              'SoilType_8703',\n",
    "              'SoilType_8707',\n",
    "              'SoilType_8708',\n",
    "              'SoilType_8771',\n",
    "              'SoilType_8772',\n",
    "              'SoilType_8776',\n",
    "              'Forest_Cover_Type']\n",
    "df.head()"
   ]
  },
  {
   "cell_type": "code",
   "execution_count": 4,
   "metadata": {},
   "outputs": [
    {
     "name": "stdout",
     "output_type": "stream",
     "text": [
      "(581011, 54) (581011, 1)\n"
     ]
    }
   ],
   "source": [
    "X = df[['Elevation',\n",
    "              'Aspect',\n",
    "              'Slope',\n",
    "              'Horizontal_Distance_To_Hydrology',\n",
    "              'Vertical_Distance_To_Hydrology',\n",
    "              'Horizontal_Distance_To_Roadway',\n",
    "              'Hillshade_9am',\n",
    "              'Hillshade_Noon',\n",
    "              'Hillshade_3pm',\n",
    "              'Horizontal_Distance_To_Fire_Points',\n",
    "              'Rawah_Wilderness_Area',\n",
    "              'Neota_Wilderness_Area',\n",
    "              'Comanche_Peak_Wilderness_Area',\n",
    "              'Cache_la_Poudre_Wilderness_Area',\n",
    "              'SoilType_2702',\n",
    "              'SoilType_2703',\n",
    "              'SoilType_2704',\n",
    "              'SoilType_2705',\n",
    "              'SoilType_2706',\n",
    "              'SoilType_2717',\n",
    "              'SoilType_3501',\n",
    "              'SoilType_3502',\n",
    "              'SoilType_4201',\n",
    "              'SoilType_4703',\n",
    "              'SoilType_4704',\n",
    "              'SoilType_4744',\n",
    "              'SoilType_4758',\n",
    "              'SoilType_5101',\n",
    "              'SoilType_5151',\n",
    "              'SoilType_6101',\n",
    "              'SoilType_6102',\n",
    "              'SoilType_6731',\n",
    "              'SoilType_7101',\n",
    "              'SoilType_7102',\n",
    "              'SoilType_7103',\n",
    "              'SoilType_7201',\n",
    "              'SoilType_7202',\n",
    "              'SoilType_7700',\n",
    "              'SoilType_7701',\n",
    "              'SoilType_7702',\n",
    "              'SoilType_7709',\n",
    "              'SoilType_7710',\n",
    "              'SoilType_7745',\n",
    "              'SoilType_7746',\n",
    "              'SoilType_7755',\n",
    "              'SoilType_7756',\n",
    "              'SoilType_7757',\n",
    "              'SoilType_7790',\n",
    "              'SoilType_8703',\n",
    "              'SoilType_8707',\n",
    "              'SoilType_8708',\n",
    "              'SoilType_8771',\n",
    "              'SoilType_8772',\n",
    "              'SoilType_8776']]\n",
    "y = df['Forest_Cover_Type'].values.reshape(-1, 1)\n",
    "print(X.shape, y.shape)"
   ]
  },
  {
   "cell_type": "code",
   "execution_count": 5,
   "metadata": {},
   "outputs": [],
   "source": [
    "# Import class to use\n",
    "from sklearn.neighbors import KNeighborsClassifier"
   ]
  },
  {
   "cell_type": "code",
   "execution_count": 6,
   "metadata": {},
   "outputs": [],
   "source": [
    "# Instaniate the estimator/model and select parameters/hyperparameters\n",
    "knn = KNeighborsClassifier(n_neighbors = 1)"
   ]
  },
  {
   "cell_type": "code",
   "execution_count": 7,
   "metadata": {},
   "outputs": [
    {
     "name": "stdout",
     "output_type": "stream",
     "text": [
      "KNeighborsClassifier(algorithm='auto', leaf_size=30, metric='minkowski',\n",
      "           metric_params=None, n_jobs=None, n_neighbors=1, p=2,\n",
      "           weights='uniform')\n"
     ]
    }
   ],
   "source": [
    "print(knn)"
   ]
  },
  {
   "cell_type": "code",
   "execution_count": 8,
   "metadata": {},
   "outputs": [
    {
     "data": {
      "text/plain": [
       "KNeighborsClassifier(algorithm='auto', leaf_size=30, metric='minkowski',\n",
       "           metric_params=None, n_jobs=None, n_neighbors=1, p=2,\n",
       "           weights='uniform')"
      ]
     },
     "execution_count": 8,
     "metadata": {},
     "output_type": "execute_result"
    }
   ],
   "source": [
    "knn.fit(X, y)"
   ]
  },
  {
   "cell_type": "code",
   "execution_count": 9,
   "metadata": {},
   "outputs": [
    {
     "data": {
      "text/plain": [
       "<bound method KNeighborsClassifier.predict of KNeighborsClassifier(algorithm='auto', leaf_size=30, metric='minkowski',\n",
       "           metric_params=None, n_jobs=None, n_neighbors=1, p=2,\n",
       "           weights='uniform')>"
      ]
     },
     "execution_count": 9,
     "metadata": {},
     "output_type": "execute_result"
    }
   ],
   "source": [
    "knn.predict"
   ]
  },
  {
   "cell_type": "code",
   "execution_count": 10,
   "metadata": {},
   "outputs": [],
   "source": [
    "## Evaluation of model #1\n",
    "# Train the model on entire dataset"
   ]
  },
  {
   "cell_type": "code",
   "execution_count": 11,
   "metadata": {},
   "outputs": [],
   "source": [
    "# Logistic Regression\n",
    "\n",
    "# Import the class\n",
    "from sklearn.linear_model import LogisticRegression"
   ]
  },
  {
   "cell_type": "code",
   "execution_count": 12,
   "metadata": {},
   "outputs": [],
   "source": [
    "# Instantiate the model (using default parameters)\n",
    "logreg = LogisticRegression()"
   ]
  },
  {
   "cell_type": "code",
   "execution_count": 13,
   "metadata": {},
   "outputs": [
    {
     "data": {
      "text/plain": [
       "LogisticRegression(C=1.0, class_weight=None, dual=False, fit_intercept=True,\n",
       "          intercept_scaling=1, max_iter=100, multi_class='warn',\n",
       "          n_jobs=None, penalty='l2', random_state=None, solver='warn',\n",
       "          tol=0.0001, verbose=0, warm_start=False)"
      ]
     },
     "execution_count": 13,
     "metadata": {},
     "output_type": "execute_result"
    }
   ],
   "source": [
    "# Fit Logistic Regression model with data\n",
    "logreg.fit(X, y)"
   ]
  },
  {
   "cell_type": "code",
   "execution_count": 14,
   "metadata": {},
   "outputs": [
    {
     "data": {
      "text/plain": [
       "array([2, 2, 2, ..., 3, 3, 3])"
      ]
     },
     "execution_count": 14,
     "metadata": {},
     "output_type": "execute_result"
    }
   ],
   "source": [
    "# Predict the response values for the observations in X\n",
    "logreg.predict(X)"
   ]
  },
  {
   "cell_type": "code",
   "execution_count": 15,
   "metadata": {},
   "outputs": [],
   "source": [
    "# Store the predicted response values\n",
    "y_pred = logreg.predict(X)"
   ]
  },
  {
   "cell_type": "code",
   "execution_count": 16,
   "metadata": {},
   "outputs": [
    {
     "data": {
      "text/plain": [
       "581011"
      ]
     },
     "execution_count": 16,
     "metadata": {},
     "output_type": "execute_result"
    }
   ],
   "source": [
    "# Check how many predictions were generated\n",
    "len(y_pred)"
   ]
  },
  {
   "cell_type": "code",
   "execution_count": 17,
   "metadata": {},
   "outputs": [
    {
     "name": "stdout",
     "output_type": "stream",
     "text": [
      "0.7089228947472596\n"
     ]
    }
   ],
   "source": [
    "# Compute classification accuracy for the logistic regression model\n",
    "from sklearn import metrics\n",
    "print(metrics.accuracy_score(y, y_pred))"
   ]
  },
  {
   "cell_type": "code",
   "execution_count": 18,
   "metadata": {},
   "outputs": [
    {
     "name": "stdout",
     "output_type": "stream",
     "text": [
      "0.9874821647094462\n"
     ]
    }
   ],
   "source": [
    "# K Nearest Neighbors model with KNN = 5\n",
    "from sklearn.neighbors import KNeighborsClassifier\n",
    "knn = KNeighborsClassifier(n_neighbors = 5)\n",
    "\n",
    "# Fit KNN model with data\n",
    "knn.fit(X, y)\n",
    "\n",
    "# Store predicted response values\n",
    "y_pred = knn.predict(X)\n",
    "\n",
    "# Compute classification accuracy for the KNN model with KNN = 5\n",
    "print(metrics.accuracy_score(y, y_pred))"
   ]
  },
  {
   "cell_type": "code",
   "execution_count": 19,
   "metadata": {},
   "outputs": [
    {
     "name": "stdout",
     "output_type": "stream",
     "text": [
      "1.0\n"
     ]
    }
   ],
   "source": [
    "# K Nearest Neighbors model with KNN = 1\n",
    "from sklearn.neighbors import KNeighborsClassifier\n",
    "knn = KNeighborsClassifier(n_neighbors = 1)\n",
    "\n",
    "# Fit KNN model with data\n",
    "knn.fit(X, y)\n",
    "\n",
    "# Store predicted response values\n",
    "y_pred = knn.predict(X)\n",
    "\n",
    "# Compute classification accuracy for the KNN model with KNN = 1\n",
    "print(metrics.accuracy_score(y, y_pred))"
   ]
  },
  {
   "cell_type": "code",
   "execution_count": 20,
   "metadata": {},
   "outputs": [],
   "source": [
    "## Evaluation of model #2\n",
    "# Train and test the model on sets within dataset"
   ]
  },
  {
   "cell_type": "code",
   "execution_count": 21,
   "metadata": {},
   "outputs": [
    {
     "name": "stdout",
     "output_type": "stream",
     "text": [
      "(581011, 54)\n",
      "(581011, 1)\n"
     ]
    }
   ],
   "source": [
    "print(X.shape)\n",
    "print(y.shape)"
   ]
  },
  {
   "cell_type": "code",
   "execution_count": 22,
   "metadata": {},
   "outputs": [],
   "source": [
    "# Split X and y into training and testing sets\n",
    "from sklearn.model_selection import train_test_split\n",
    "X_train, X_test, y_train, y_test = train_test_split(X, y, test_size = 0.4)"
   ]
  },
  {
   "cell_type": "code",
   "execution_count": 23,
   "metadata": {},
   "outputs": [
    {
     "name": "stdout",
     "output_type": "stream",
     "text": [
      "(348606, 54)\n",
      "(232405, 54)\n"
     ]
    }
   ],
   "source": [
    "# Print the shapes of new X objects\n",
    "print(X_train.shape)\n",
    "print(X_test.shape)"
   ]
  },
  {
   "cell_type": "code",
   "execution_count": 24,
   "metadata": {},
   "outputs": [
    {
     "name": "stdout",
     "output_type": "stream",
     "text": [
      "(348606, 1)\n",
      "(232405, 1)\n"
     ]
    }
   ],
   "source": [
    "# Print the shapes of new y objects\n",
    "print(y_train.shape)\n",
    "print(y_test.shape)"
   ]
  },
  {
   "cell_type": "code",
   "execution_count": 25,
   "metadata": {},
   "outputs": [
    {
     "data": {
      "text/plain": [
       "LogisticRegression(C=1.0, class_weight=None, dual=False, fit_intercept=True,\n",
       "          intercept_scaling=1, max_iter=100, multi_class='warn',\n",
       "          n_jobs=None, penalty='l2', random_state=None, solver='warn',\n",
       "          tol=0.0001, verbose=0, warm_start=False)"
      ]
     },
     "execution_count": 25,
     "metadata": {},
     "output_type": "execute_result"
    }
   ],
   "source": [
    "# Train logistic regression model on training set\n",
    "logreg = LogisticRegression()\n",
    "\n",
    "# Fit training set with logistic regression model\n",
    "logreg.fit(X_train, y_train)"
   ]
  },
  {
   "cell_type": "code",
   "execution_count": 26,
   "metadata": {},
   "outputs": [
    {
     "name": "stdout",
     "output_type": "stream",
     "text": [
      "0.7094253565973193\n"
     ]
    }
   ],
   "source": [
    "# Make predictions on testing set\n",
    "y_pred = logreg.predict(X_test)\n",
    "\n",
    "# Compare actual response values (y_test) with predicted response values (y_pred)\n",
    "print(metrics.accuracy_score(y_test, y_pred))"
   ]
  },
  {
   "cell_type": "code",
   "execution_count": 27,
   "metadata": {},
   "outputs": [
    {
     "name": "stdout",
     "output_type": "stream",
     "text": [
      "0.9621006432735957\n"
     ]
    }
   ],
   "source": [
    "# K Nearest Neighbors model with KNN = 5\n",
    "from sklearn.neighbors import KNeighborsClassifier\n",
    "knn = KNeighborsClassifier(n_neighbors = 5)\n",
    "\n",
    "# Fit KNN model with data\n",
    "knn.fit(X_train, y_train)\n",
    "\n",
    "# Store predicted response values\n",
    "y_pred = knn.predict(X_test)\n",
    "\n",
    "# Compute classification accuracy for the KNN model with KNN = 5\n",
    "print(metrics.accuracy_score(y_test, y_pred))"
   ]
  },
  {
   "cell_type": "code",
   "execution_count": 28,
   "metadata": {},
   "outputs": [
    {
     "name": "stdout",
     "output_type": "stream",
     "text": [
      "0.9624706869473548\n"
     ]
    }
   ],
   "source": [
    "# K Nearest Neighbors model with KNN = 1\n",
    "from sklearn.neighbors import KNeighborsClassifier\n",
    "knn = KNeighborsClassifier(n_neighbors = 1)\n",
    "\n",
    "# Fit KNN model with data\n",
    "knn.fit(X_train, y_train)\n",
    "\n",
    "# Store predicted response values\n",
    "y_pred = knn.predict(X_test)\n",
    "\n",
    "# Compute classification accuracy for the KNN model with KNN = 1\n",
    "print(metrics.accuracy_score(y_test, y_pred))"
   ]
  },
  {
   "cell_type": "code",
   "execution_count": 29,
   "metadata": {},
   "outputs": [
    {
     "name": "stdout",
     "output_type": "stream",
     "text": [
      "k: 1, Train/Test Score: 1.000/0.962\n",
      "k: 2, Train/Test Score: 0.981/0.957\n",
      "k: 3, Train/Test Score: 0.987/0.964\n",
      "k: 4, Train/Test Score: 0.979/0.959\n",
      "k: 5, Train/Test Score: 0.981/0.962\n",
      "k: 6, Train/Test Score: 0.975/0.958\n",
      "k: 7, Train/Test Score: 0.975/0.958\n",
      "k: 8, Train/Test Score: 0.971/0.954\n",
      "k: 9, Train/Test Score: 0.970/0.954\n",
      "k: 10, Train/Test Score: 0.966/0.951\n"
     ]
    },
    {
     "data": {
      "text/plain": [
       "<Figure size 640x480 with 1 Axes>"
      ]
     },
     "metadata": {},
     "output_type": "display_data"
    }
   ],
   "source": [
    "# Import Matplotlib\n",
    "import matplotlib.pyplot as plt\n",
    "\n",
    "# Allow plots to appear in notebook\n",
    "#%matplotlib inline\n",
    "\n",
    "# Loop through different k values to see which has the highest accuracy\n",
    "train_scores = []\n",
    "test_scores = []\n",
    "for k in range(1, 11):\n",
    "    knn = KNeighborsClassifier(n_neighbors=k)\n",
    "    knn.fit(X_train, y_train)\n",
    "    train_score = knn.score(X_train, y_train)\n",
    "    test_score = knn.score(X_test, y_test)\n",
    "    train_scores.append(train_score)\n",
    "    test_scores.append(test_score)\n",
    "    print(f\"k: {k}, Train/Test Score: {train_score:.3f}/{test_score:.3f}\")\n",
    "    \n",
    "    \n",
    "plt.plot(range(1, 11), train_scores, marker=\"o\", color = \"#D35400\")\n",
    "plt.plot(range(1, 11), test_scores, marker=\"s\", color = \"#45B39D\")\n",
    "plt.xlabel(\"k neighbors\")\n",
    "plt.ylabel(\"Testing accuracy Score\")\n",
    "plt.suptitle(\"Forest Cover Type KNN with 40% Test Size\", fontsize=14)\n",
    "plt.savefig(\"images/plot1.png\") \n",
    "plt.show()"
   ]
  },
  {
   "cell_type": "code",
   "execution_count": 30,
   "metadata": {},
   "outputs": [
    {
     "name": "stdout",
     "output_type": "stream",
     "text": [
      "k=3 Test Acc: 0.964\n"
     ]
    }
   ],
   "source": [
    "# k: 3 seems to be the best choice for this dataset\n",
    "knn = KNeighborsClassifier(n_neighbors=3)\n",
    "knn.fit(X_train, y_train)\n",
    "print('k=3 Test Acc: %.3f' % knn.score(X_test, y_test))"
   ]
  },
  {
   "cell_type": "code",
   "execution_count": 31,
   "metadata": {},
   "outputs": [],
   "source": [
    "# Split X and y into training and testing sets\n",
    "from sklearn.model_selection import train_test_split\n",
    "X_train, X_test, y_train, y_test = train_test_split(X, y, test_size = 0.1)"
   ]
  },
  {
   "cell_type": "code",
   "execution_count": 32,
   "metadata": {},
   "outputs": [
    {
     "data": {
      "text/plain": [
       "LogisticRegression(C=1.0, class_weight=None, dual=False, fit_intercept=True,\n",
       "          intercept_scaling=1, max_iter=100, multi_class='warn',\n",
       "          n_jobs=None, penalty='l2', random_state=None, solver='warn',\n",
       "          tol=0.0001, verbose=0, warm_start=False)"
      ]
     },
     "execution_count": 32,
     "metadata": {},
     "output_type": "execute_result"
    }
   ],
   "source": [
    "# Train logistic regression model on training set\n",
    "logreg = LogisticRegression()\n",
    "\n",
    "# Fit training set with logistic regression model\n",
    "logreg.fit(X_train, y_train)"
   ]
  },
  {
   "cell_type": "code",
   "execution_count": 33,
   "metadata": {},
   "outputs": [
    {
     "name": "stdout",
     "output_type": "stream",
     "text": [
      "0.7051048156689959\n"
     ]
    }
   ],
   "source": [
    "# Make predictions on testing set\n",
    "y_pred = logreg.predict(X_test)\n",
    "\n",
    "# Compare actual response values (y_test) with predicted response values (y_pred)\n",
    "print(metrics.accuracy_score(y_test, y_pred))"
   ]
  },
  {
   "cell_type": "code",
   "execution_count": 34,
   "metadata": {},
   "outputs": [
    {
     "name": "stdout",
     "output_type": "stream",
     "text": [
      "0.9704657326770163\n"
     ]
    }
   ],
   "source": [
    "# K Nearest Neighbors model with KNN = 5\n",
    "from sklearn.neighbors import KNeighborsClassifier\n",
    "knn = KNeighborsClassifier(n_neighbors = 5)\n",
    "\n",
    "# Fit KNN model with data\n",
    "knn.fit(X_train, y_train)\n",
    "\n",
    "# Store predicted response values\n",
    "y_pred = knn.predict(X_test)\n",
    "\n",
    "# Compute classification accuracy for the KNN model with KNN = 5\n",
    "print(metrics.accuracy_score(y_test, y_pred))"
   ]
  },
  {
   "cell_type": "code",
   "execution_count": 35,
   "metadata": {},
   "outputs": [
    {
     "name": "stdout",
     "output_type": "stream",
     "text": [
      "0.9653884547864101\n"
     ]
    }
   ],
   "source": [
    "# K Nearest Neighbors model with KNN = 1\n",
    "from sklearn.neighbors import KNeighborsClassifier\n",
    "knn = KNeighborsClassifier(n_neighbors = 1)\n",
    "\n",
    "# Fit KNN model with data\n",
    "knn.fit(X_train, y_train)\n",
    "\n",
    "# Store predicted response values\n",
    "y_pred = knn.predict(X_test)\n",
    "\n",
    "# Compute classification accuracy for the KNN model with KNN = 1\n",
    "print(metrics.accuracy_score(y_test, y_pred))"
   ]
  },
  {
   "cell_type": "code",
   "execution_count": 36,
   "metadata": {},
   "outputs": [
    {
     "name": "stdout",
     "output_type": "stream",
     "text": [
      "k: 1, Train/Test Score: 1.000/0.965\n",
      "k: 2, Train/Test Score: 0.983/0.962\n",
      "k: 3, Train/Test Score: 0.990/0.970\n",
      "k: 4, Train/Test Score: 0.983/0.966\n",
      "k: 5, Train/Test Score: 0.986/0.970\n",
      "k: 6, Train/Test Score: 0.982/0.967\n",
      "k: 7, Train/Test Score: 0.983/0.969\n",
      "k: 8, Train/Test Score: 0.979/0.965\n",
      "k: 9, Train/Test Score: 0.979/0.966\n",
      "k: 10, Train/Test Score: 0.976/0.964\n"
     ]
    },
    {
     "data": {
      "image/png": "[encoded data removed]",
      "text/plain": [
       "<Figure size 432x288 with 1 Axes>"
      ]
     },
     "metadata": {
      "needs_background": "light"
     },
     "output_type": "display_data"
    }
   ],
   "source": [
    "# Loop through different k values to see which has the highest accuracy\n",
    "train_scores = []\n",
    "test_scores = []\n",
    "for k in range(1, 11):\n",
    "    knn = KNeighborsClassifier(n_neighbors=k)\n",
    "    knn.fit(X_train, y_train)\n",
    "    train_score = knn.score(X_train, y_train)\n",
    "    test_score = knn.score(X_test, y_test)\n",
    "    train_scores.append(train_score)\n",
    "    test_scores.append(test_score)\n",
    "    print(f\"k: {k}, Train/Test Score: {train_score:.3f}/{test_score:.3f}\")\n",
    "    \n",
    "    \n",
    "plt.plot(range(1, 11), train_scores, marker=\"o\", color = \"#D35400\")\n",
    "plt.plot(range(1, 11), test_scores, marker=\"s\", color = \"#45B39D\")\n",
    "plt.xlabel(\"k neighbors\")\n",
    "plt.ylabel(\"Testing accuracy Score\")\n",
    "plt.suptitle(\"Forest Cover Type KNN with 10% Test Size\", fontsize=14)\n",
    "plt.savefig(\"images/plot2.png\") \n",
    "plt.show()"
   ]
  },
  {
   "cell_type": "code",
   "execution_count": 37,
   "metadata": {},
   "outputs": [
    {
     "name": "stdout",
     "output_type": "stream",
     "text": [
      "k=3 Test Acc: 0.970\n"
     ]
    }
   ],
   "source": [
    "# k: 3 seems to be the best choice for this dataset\n",
    "knn = KNeighborsClassifier(n_neighbors=3)\n",
    "knn.fit(X_train, y_train)\n",
    "print('k=3 Test Acc: %.3f' % knn.score(X_test, y_test))"
   ]
  },
  {
   "cell_type": "code",
   "execution_count": 38,
   "metadata": {},
   "outputs": [],
   "source": [
    "# Split X and y into training and testing sets\n",
    "from sklearn.model_selection import train_test_split\n",
    "X_train, X_test, y_train, y_test = train_test_split(X, y, test_size = 0.2)"
   ]
  },
  {
   "cell_type": "code",
   "execution_count": 39,
   "metadata": {},
   "outputs": [
    {
     "data": {
      "text/plain": [
       "LogisticRegression(C=1.0, class_weight=None, dual=False, fit_intercept=True,\n",
       "          intercept_scaling=1, max_iter=100, multi_class='warn',\n",
       "          n_jobs=None, penalty='l2', random_state=None, solver='warn',\n",
       "          tol=0.0001, verbose=0, warm_start=False)"
      ]
     },
     "execution_count": 39,
     "metadata": {},
     "output_type": "execute_result"
    }
   ],
   "source": [
    "# Train logistic regression model on training set\n",
    "logreg = LogisticRegression()\n",
    "\n",
    "# Fit training set with logistic regression model\n",
    "logreg.fit(X_train, y_train)"
   ]
  },
  {
   "cell_type": "code",
   "execution_count": 40,
   "metadata": {},
   "outputs": [
    {
     "name": "stdout",
     "output_type": "stream",
     "text": [
      "0.7096804729654139\n"
     ]
    }
   ],
   "source": [
    "# Make predictions on testing set\n",
    "y_pred = logreg.predict(X_test)\n",
    "\n",
    "# Compare actual response values (y_test) with predicted response values (y_pred)\n",
    "print(metrics.accuracy_score(y_test, y_pred))"
   ]
  },
  {
   "cell_type": "code",
   "execution_count": 41,
   "metadata": {},
   "outputs": [
    {
     "name": "stdout",
     "output_type": "stream",
     "text": [
      "0.9689250707813051\n"
     ]
    }
   ],
   "source": [
    "# K Nearest Neighbors model with KNN = 5\n",
    "from sklearn.neighbors import KNeighborsClassifier\n",
    "knn = KNeighborsClassifier(n_neighbors = 5)\n",
    "\n",
    "# Fit KNN model with data\n",
    "knn.fit(X_train, y_train)\n",
    "\n",
    "# Store predicted response values\n",
    "y_pred = knn.predict(X_test)\n",
    "\n",
    "# Compute classification accuracy for the KNN model with KNN = 5\n",
    "print(metrics.accuracy_score(y_test, y_pred))"
   ]
  },
  {
   "cell_type": "code",
   "execution_count": 42,
   "metadata": {},
   "outputs": [
    {
     "name": "stdout",
     "output_type": "stream",
     "text": [
      "0.965327917523644\n"
     ]
    }
   ],
   "source": [
    "# K Nearest Neighbors model with KNN = 1\n",
    "from sklearn.neighbors import KNeighborsClassifier\n",
    "knn = KNeighborsClassifier(n_neighbors = 1)\n",
    "\n",
    "# Fit KNN model with data\n",
    "knn.fit(X_train, y_train)\n",
    "\n",
    "# Store predicted response values\n",
    "y_pred = knn.predict(X_test)\n",
    "\n",
    "# Compute classification accuracy for the KNN model with KNN = 1\n",
    "print(metrics.accuracy_score(y_test, y_pred))"
   ]
  },
  {
   "cell_type": "code",
   "execution_count": 43,
   "metadata": {},
   "outputs": [
    {
     "name": "stdout",
     "output_type": "stream",
     "text": [
      "k: 1, Train/Test Score: 1.000/0.965\n",
      "k: 2, Train/Test Score: 0.982/0.962\n",
      "k: 3, Train/Test Score: 0.989/0.969\n",
      "k: 4, Train/Test Score: 0.982/0.965\n",
      "k: 5, Train/Test Score: 0.985/0.969\n",
      "k: 6, Train/Test Score: 0.980/0.966\n",
      "k: 7, Train/Test Score: 0.981/0.967\n",
      "k: 8, Train/Test Score: 0.977/0.963\n",
      "k: 9, Train/Test Score: 0.977/0.964\n",
      "k: 10, Train/Test Score: 0.973/0.960\n"
     ]
    },
    {
     "data": {
      "image/png": "[encoded data removed]",
      "text/plain": [
       "<Figure size 432x288 with 1 Axes>"
      ]
     },
     "metadata": {
      "needs_background": "light"
     },
     "output_type": "display_data"
    }
   ],
   "source": [
    "# Loop through different k values to see which has the highest accuracy\n",
    "train_scores = []\n",
    "test_scores = []\n",
    "for k in range(1, 11):\n",
    "    knn = KNeighborsClassifier(n_neighbors=k)\n",
    "    knn.fit(X_train, y_train)\n",
    "    train_score = knn.score(X_train, y_train)\n",
    "    test_score = knn.score(X_test, y_test)\n",
    "    train_scores.append(train_score)\n",
    "    test_scores.append(test_score)\n",
    "    print(f\"k: {k}, Train/Test Score: {train_score:.3f}/{test_score:.3f}\")\n",
    "    \n",
    "    \n",
    "plt.plot(range(1, 11), train_scores, marker=\"o\", color = \"#D35400\")\n",
    "plt.plot(range(1, 11), test_scores, marker=\"s\", color = \"#45B39D\")\n",
    "plt.xlabel(\"k neighbors\")\n",
    "plt.ylabel(\"Testing accuracy Score\")\n",
    "plt.suptitle(\"Forest Cover Type KNN with 20% Test Size\", fontsize=14)\n",
    "plt.savefig(\"images/plot3.png\") \n",
    "plt.show()"
   ]
  },
  {
   "cell_type": "code",
   "execution_count": 44,
   "metadata": {},
   "outputs": [
    {
     "name": "stdout",
     "output_type": "stream",
     "text": [
      "k=3 Test Acc: 0.969\n"
     ]
    }
   ],
   "source": [
    "# k: 3 seems to be the best choice for this dataset\n",
    "knn = KNeighborsClassifier(n_neighbors=3)\n",
    "knn.fit(X_train, y_train)\n",
    "print('k=3 Test Acc: %.3f' % knn.score(X_test, y_test))"
   ]
  },
  {
   "cell_type": "code",
   "execution_count": 45,
   "metadata": {},
   "outputs": [],
   "source": [
    "# Split X and y into training and testing sets\n",
    "from sklearn.model_selection import train_test_split\n",
    "X_train, X_test, y_train, y_test = train_test_split(X, y, test_size = 0.3)"
   ]
  },
  {
   "cell_type": "code",
   "execution_count": 46,
   "metadata": {},
   "outputs": [
    {
     "data": {
      "text/plain": [
       "LogisticRegression(C=1.0, class_weight=None, dual=False, fit_intercept=True,\n",
       "          intercept_scaling=1, max_iter=100, multi_class='warn',\n",
       "          n_jobs=None, penalty='l2', random_state=None, solver='warn',\n",
       "          tol=0.0001, verbose=0, warm_start=False)"
      ]
     },
     "execution_count": 46,
     "metadata": {},
     "output_type": "execute_result"
    }
   ],
   "source": [
    "# Train logistic regression model on training set\n",
    "logreg = LogisticRegression()\n",
    "\n",
    "# Fit training set with logistic regression model\n",
    "logreg.fit(X_train, y_train)"
   ]
  },
  {
   "cell_type": "code",
   "execution_count": 47,
   "metadata": {},
   "outputs": [
    {
     "name": "stdout",
     "output_type": "stream",
     "text": [
      "0.7102935101890949\n"
     ]
    }
   ],
   "source": [
    "# Make predictions on testing set\n",
    "y_pred = logreg.predict(X_test)\n",
    "\n",
    "# Compare actual response values (y_test) with predicted response values (y_pred)\n",
    "print(metrics.accuracy_score(y_test, y_pred))"
   ]
  },
  {
   "cell_type": "code",
   "execution_count": 48,
   "metadata": {},
   "outputs": [
    {
     "name": "stdout",
     "output_type": "stream",
     "text": [
      "0.9669542867633559\n"
     ]
    }
   ],
   "source": [
    "# K Nearest Neighbors model with KNN = 5\n",
    "from sklearn.neighbors import KNeighborsClassifier\n",
    "knn = KNeighborsClassifier(n_neighbors = 5)\n",
    "\n",
    "# Fit KNN model with data\n",
    "knn.fit(X_train, y_train)\n",
    "\n",
    "# Store predicted response values\n",
    "y_pred = knn.predict(X_test)\n",
    "\n",
    "# Compute classification accuracy for the KNN model with KNN = 5\n",
    "print(metrics.accuracy_score(y_test, y_pred))"
   ]
  },
  {
   "cell_type": "code",
   "execution_count": 49,
   "metadata": {},
   "outputs": [
    {
     "name": "stdout",
     "output_type": "stream",
     "text": [
      "0.9643725904167432\n"
     ]
    }
   ],
   "source": [
    "# K Nearest Neighbors model with KNN = 1\n",
    "from sklearn.neighbors import KNeighborsClassifier\n",
    "knn = KNeighborsClassifier(n_neighbors = 1)\n",
    "\n",
    "# Fit KNN model with data\n",
    "knn.fit(X_train, y_train)\n",
    "\n",
    "# Store predicted response values\n",
    "y_pred = knn.predict(X_test)\n",
    "\n",
    "# Compute classification accuracy for the KNN model with KNN = 1\n",
    "print(metrics.accuracy_score(y_test, y_pred))"
   ]
  },
  {
   "cell_type": "code",
   "execution_count": 50,
   "metadata": {},
   "outputs": [
    {
     "name": "stdout",
     "output_type": "stream",
     "text": [
      "k: 1, Train/Test Score: 1.000/0.964\n",
      "k: 2, Train/Test Score: 0.982/0.960\n",
      "k: 3, Train/Test Score: 0.988/0.968\n",
      "k: 4, Train/Test Score: 0.981/0.964\n",
      "k: 5, Train/Test Score: 0.983/0.967\n",
      "k: 6, Train/Test Score: 0.978/0.963\n",
      "k: 7, Train/Test Score: 0.978/0.964\n",
      "k: 8, Train/Test Score: 0.974/0.960\n",
      "k: 9, Train/Test Score: 0.974/0.960\n",
      "k: 10, Train/Test Score: 0.970/0.957\n"
     ]
    },
    {
     "data": {
      "image/png": "[encoded data removed]",
      "text/plain": [
       "<Figure size 432x288 with 1 Axes>"
      ]
     },
     "metadata": {
      "needs_background": "light"
     },
     "output_type": "display_data"
    }
   ],
   "source": [
    "# Loop through different k values to see which has the highest accuracy\n",
    "train_scores = []\n",
    "test_scores = []\n",
    "for k in range(1, 11):\n",
    "    knn = KNeighborsClassifier(n_neighbors=k)\n",
    "    knn.fit(X_train, y_train)\n",
    "    train_score = knn.score(X_train, y_train)\n",
    "    test_score = knn.score(X_test, y_test)\n",
    "    train_scores.append(train_score)\n",
    "    test_scores.append(test_score)\n",
    "    print(f\"k: {k}, Train/Test Score: {train_score:.3f}/{test_score:.3f}\")\n",
    "    \n",
    "    \n",
    "plt.plot(range(1, 11), train_scores, marker=\"o\", color = \"#D35400\")\n",
    "plt.plot(range(1, 11), test_scores, marker=\"s\", color = \"#45B39D\")\n",
    "plt.xlabel(\"k neighbors\")\n",
    "plt.ylabel(\"Testing accuracy Score\")\n",
    "plt.suptitle(\"Forest Cover Type KNN with 30% Test Size\", fontsize=14)\n",
    "plt.savefig(\"images/plot4.png\") \n",
    "plt.show()"
   ]
  },
  {
   "cell_type": "code",
   "execution_count": 51,
   "metadata": {},
   "outputs": [
    {
     "name": "stdout",
     "output_type": "stream",
     "text": [
      "k=3 Test Acc: 0.968\n"
     ]
    }
   ],
   "source": [
    "# k: 3 seems to be the best choice for this dataset\n",
    "knn = KNeighborsClassifier(n_neighbors=3)\n",
    "knn.fit(X_train, y_train)\n",
    "print('k=3 Test Acc: %.3f' % knn.score(X_test, y_test))"
   ]
  },
  {
   "cell_type": "code",
   "execution_count": 60,
   "metadata": {},
   "outputs": [
    {
     "data": {
      "image/png": "[encoded data removed]",
      "text/plain": [
       "<Figure size 432x288 with 1 Axes>"
      ]
     },
     "metadata": {
      "needs_background": "light"
     },
     "output_type": "display_data"
    }
   ],
   "source": [
    "# Data to plot\n",
    "n_groups = 4\n",
    "logtest_scores = (.709, .710, .709, .705)\n",
    "knntest_scores = (.964, .968, .969, .970)\n",
    " \n",
    "# Create plot\n",
    "fig, ax = plt.subplots()\n",
    "index = np.arange(n_groups)\n",
    "bar_width = 0.35\n",
    "opacity = 0.8\n",
    " \n",
    "rects1 = plt.bar(index, logtest_scores, bar_width,\n",
    "alpha=opacity,\n",
    "color=\"#3498DB\",\n",
    "label=\"Logistic Regression\")\n",
    " \n",
    "rects2 = plt.bar(index + bar_width, knntest_scores, bar_width,\n",
    "alpha=opacity,\n",
    "color=\"#F1C40F\",\n",
    "label=\"KNN\")\n",
    " \n",
    "plt.xlabel(\"Test Size\")\n",
    "plt.ylabel(\"Model Accuracy Score\")\n",
    "plt.title(\"Comparison of Logistic Regression Accuracy with Test Size\", fontsize = 14)\n",
    "plt.xticks(index + bar_width, ('.40', '.30', '.20', '.10'))\n",
    "\n",
    "# Shrink current axis by 20%\n",
    "box = ax.get_position()\n",
    "ax.set_position([box.x0, box.y0, box.width * 0.8, box.height])\n",
    "\n",
    "# Put a legend to the right of the current axis\n",
    "ax.legend(loc='center left', bbox_to_anchor=(1, 0.5))\n",
    "\n",
    "plt.tight_layout()\n",
    "plt.savefig(\"images/plot5.png\") \n",
    "plt.show()"
   ]
  },
  {
   "cell_type": "code",
   "execution_count": null,
   "metadata": {},
   "outputs": [],
   "source": []
  }
 ],
 "metadata": {
  "kernelspec": {
   "display_name": "Python 3",
   "language": "python",
   "name": "python3"
  },
  "language_info": {
   "codemirror_mode": {
    "name": "ipython",
    "version": 3
   },
   "file_extension": ".py",
   "mimetype": "text/x-python",
   "name": "python",
   "nbconvert_exporter": "python",
   "pygments_lexer": "ipython3",
   "version": "3.6.8"
  }
 },
 "nbformat": 4,
 "nbformat_minor": 2
}
